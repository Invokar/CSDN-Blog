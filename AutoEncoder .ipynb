{
 "cells": [
  {
   "cell_type": "code",
   "execution_count": 112,
   "metadata": {},
   "outputs": [],
   "source": [
    "import numpy as np\n",
    "import sklearn.preprocessing as prep\n",
    "import tensorflow as tf\n",
    "from tensorflow.examples.tutorials.mnist import input_data\n",
    "from PIL import Image\n",
    "import matplotlib.pyplot as plt"
   ]
  },
  {
   "cell_type": "markdown",
   "metadata": {},
   "source": [
    "### Xaiver初始化 ###"
   ]
  },
  {
   "cell_type": "code",
   "execution_count": 2,
   "metadata": {},
   "outputs": [],
   "source": [
    "# 从数学的角度来说，Xavier就是让权重满足0均值，同时方差为2/(in+out)\n",
    "def xavier_init(fan_in, fan_out, constant = 1):\n",
    "    low = -constant * np.sqrt(6.0 / (fan_in + fan_out))  # 均匀分布的左端\n",
    "    high = constant * np.sqrt(6.0 / (fan_in + fan_out))  # 均匀分布的右端\n",
    "    # 根据均匀分布方差计算公式D(x) = (max - min) ** 2 / 12 可以发现刚好等于2/(in+out)\n",
    "    return tf.random_uniform((fan_in, fan_out),\n",
    "                              minval = low,\n",
    "                              maxval = high,\n",
    "                              dtype = tf.float32)"
   ]
  },
  {
   "cell_type": "markdown",
   "metadata": {},
   "source": [
    "### 定义高斯噪声自编码的class #"
   ]
  },
  {
   "cell_type": "code",
   "execution_count": 21,
   "metadata": {},
   "outputs": [],
   "source": [
    "class AdditiveGaussianNoiseAutoencoder(object):\n",
    "    def __init__(self, n_input, n_hidden_1, n_hidden_2,  transfer_function = tf.nn.softplus,\n",
    "                 optimizer = tf.train.AdamOptimizer(), scale = 0.1):\n",
    "        '''\n",
    "        n_input: 输入变量数\n",
    "        n_hidden: 隐含层结点数\n",
    "        transfer_function: 隐含层激活函数，默认为tf.nn.softplus\n",
    "        optimizer: 优化器\n",
    "        scale: 高斯噪声系数\n",
    "        '''\n",
    "        self.n_input = n_input\n",
    "        self.n_hidden_1 = n_hidden_1\n",
    "        self.n_hidden_2 = n_hidden_2\n",
    "        self.transfer = transfer_function\n",
    "        self.scale = tf.placeholder(tf.float32)\n",
    "        self.training_scale = scale\n",
    "        \n",
    "        network_weights = self._initialize_weights()\n",
    "        self.weights = network_weights\n",
    "        self.x = tf.placeholder(tf.float32, [None, self.n_input])\n",
    "        # 第一个隐层\n",
    "        self.hidden_1 = self.transfer(tf.add(tf.matmul(\n",
    "                            self.x + scale * tf.random_normal((n_input, )), \n",
    "                            self.weights['w1']), self.weights['b1']))\n",
    "        # 第二个隐层\n",
    "        self.hidden_2 = self.transfer(tf.add(tf.matmul(\n",
    "                            self.hidden_1, self.weights['w2']), self.weights['b2']))\n",
    "        # 进行数据复原、重建操作\n",
    "        self.reconstruction = tf.add(tf.matmul(self.hidden_2, self.weights['w3']), self.weights['b3'])\n",
    "        # 定义自编码器的损失函数，采用平方误差作为cost\n",
    "        self.cost = 0.5 * tf.reduce_sum(tf.pow(tf.subtract(self.reconstruction, self.x), 2.0))\n",
    "        # 进行优化\n",
    "        self.optimizer = optimizer.minimize(self.cost)\n",
    "        \n",
    "        # 创建Session\n",
    "        init = tf.global_variables_initializer()\n",
    "        self.sess = tf.Session()\n",
    "        self.sess.run(init)\n",
    "        \n",
    "    # 参数初始化方法    \n",
    "    def _initialize_weights(self):\n",
    "        all_weight = dict()  # 定义一个保存参数初始化结果的字典\n",
    "        all_weight['w1'] = tf.Variable(xavier_init(self.n_input, self.n_hidden_1))\n",
    "        all_weight['b1'] = tf.Variable(tf.zeros([self.n_hidden_1], dtype = tf.float32))\n",
    "        \n",
    "        all_weight['w2'] = tf.Variable(xavier_init(self.n_hidden_1, self.n_hidden_2))\n",
    "        all_weight['b2'] = tf.Variable(tf.zeros([self.n_hidden_2], dtype = tf.float32))\n",
    "        \n",
    "        all_weight['w3'] = tf.Variable(tf.zeros([self.n_hidden_2, self.n_input], dtype = tf.float32))\n",
    "        all_weight['b3'] = tf.Variable(tf.zeros([self.n_input], dtype = tf.float32))\n",
    "        return all_weight\n",
    "    \n",
    "    # 定义损失函数cost及执行一步训练的函数partial fit\n",
    "    def partial_fit(self, X):\n",
    "        cost, opt = self.sess.run([self.cost, self.optimizer], feed_dict = {\n",
    "            self.x: X, self.scale: self.training_scale })\n",
    "        return cost\n",
    "    \n",
    "    # 只求损失的cost函数\n",
    "    def calc_total_cost(self, X):\n",
    "        return self.sess.run(self.cost, feed_dict = {\n",
    "            self.x: X, self.scale: self.training_scale})\n",
    "    \n",
    "    # 返回自编码器隐含层的输出结果\n",
    "    # 自编码器隐含层的最主要功能就是学习数据中的高阶特征\n",
    "    def transform(self, X):\n",
    "        return self.sess.run([self.n_hidden_1, self.n_hidden_2],feed_dict = {\n",
    "            self.x: X, self.scale: self.training_scale})\n",
    "    \n",
    "    # 将高阶特征复原为原始数据的步骤\n",
    "    def generate(self, hidden = None):\n",
    "        if hidden is None:\n",
    "            hidden = np.random.normal(size = self.weights['b2'])\n",
    "        return self.sess.run(self.reconstruction, feed_dict = {self.hidden_2: hidden})\n",
    "    \n",
    "    # 整体运行一遍复原过程\n",
    "    def reconstruct(self, X):\n",
    "        return self.sess.run(self.reconstruction, feed_dict = {\n",
    "            self.x: X, self.scale: self.training_scale})\n",
    "    \n",
    "    # 获得隐含层的权重w\n",
    "    def getWeight(self):\n",
    "        return self.sess.run([self.weights['w1'], self.weights['w2']])\n",
    "    \n",
    "    # 获取隐含层的偏置系数b\n",
    "    def getBiases(self):\n",
    "        return self.sess.run([self.weights['b1'], self.weights['b2']])"
   ]
  },
  {
   "cell_type": "code",
   "execution_count": 59,
   "metadata": {
    "scrolled": true
   },
   "outputs": [
    {
     "name": "stdout",
     "output_type": "stream",
     "text": [
      "Extracting ./data\\train-images-idx3-ubyte.gz\n",
      "Extracting ./data\\train-labels-idx1-ubyte.gz\n",
      "Extracting ./data\\t10k-images-idx3-ubyte.gz\n",
      "Extracting ./data\\t10k-labels-idx1-ubyte.gz\n"
     ]
    }
   ],
   "source": [
    "mnist = input_data.read_data_sets(\"./data\", one_hot = True)"
   ]
  },
  {
   "cell_type": "markdown",
   "metadata": {},
   "source": [
    "### 对训练、测试数据进行标准化处理 ###"
   ]
  },
  {
   "cell_type": "code",
   "execution_count": 5,
   "metadata": {},
   "outputs": [],
   "source": [
    "def standard_scale(X_train, X_test):\n",
    "    # 训练获得训练数据的均值和方差\n",
    "    preprocessor = prep.StandardScaler().fit(X_train)\n",
    "    # NOTE：这个transform不是在类中定义的transform\n",
    "    X_train = preprocessor.transform(X_train)  # 将X_train按之前训练的mean, var进行归一化\n",
    "    X_test = preprocessor.transform(X_test)    # 将X_test按之前训练的mean, var进行归一化\n",
    "    return X_train, X_test"
   ]
  },
  {
   "cell_type": "markdown",
   "metadata": {},
   "source": [
    "### 随机获得采样数据 ###"
   ]
  },
  {
   "cell_type": "code",
   "execution_count": 6,
   "metadata": {},
   "outputs": [],
   "source": [
    "def get_random_block_from_data(data, batch_size):\n",
    "    # 随机选取采样的起点\n",
    "    start_index = np.random.randint(0, len(data) - batch_size)\n",
    "    return data[start_index: (start_index + batch_size)]"
   ]
  },
  {
   "cell_type": "markdown",
   "metadata": {},
   "source": [
    "### 对训练集测试集进行标准化变换 ###"
   ]
  },
  {
   "cell_type": "code",
   "execution_count": 7,
   "metadata": {},
   "outputs": [],
   "source": [
    "X_train, X_test = standard_scale(mnist.train.images, mnist.test.images)"
   ]
  },
  {
   "cell_type": "markdown",
   "metadata": {},
   "source": [
    "### 创建一个AGN自编码的实例（高斯噪声自编码器）###"
   ]
  },
  {
   "cell_type": "code",
   "execution_count": 46,
   "metadata": {},
   "outputs": [],
   "source": [
    "n_samples = int(mnist.train.num_examples) # 获取总训练样本数\n",
    "training_epochs = 80  # 总共训练的轮数\n",
    "batch_size = 32\n",
    "display_step = 5  # 每5轮打印一次\n",
    "\n",
    "autoencoder = AdditiveGaussianNoiseAutoencoder(n_input = 784, n_hidden_1 = 392, n_hidden_2 = 784,\n",
    "                                               transfer_function = tf.nn.relu,\n",
    "                                               optimizer = tf.train.AdamOptimizer(learning_rate = 0.001),\n",
    "                                               scale = 0.01)"
   ]
  },
  {
   "cell_type": "markdown",
   "metadata": {},
   "source": [
    "### 进行训练 ###"
   ]
  },
  {
   "cell_type": "code",
   "execution_count": 47,
   "metadata": {
    "scrolled": true
   },
   "outputs": [
    {
     "name": "stdout",
     "output_type": "stream",
     "text": [
      "Epoch:  0001 cost =  4306.856893892\n",
      "Epoch:  0006 cost =  2225.527799201\n",
      "Epoch:  0011 cost =  1644.421428995\n",
      "Epoch:  0016 cost =  1442.167356126\n",
      "Epoch:  0021 cost =  1130.302677264\n",
      "Epoch:  0026 cost =  1207.239906792\n",
      "Epoch:  0031 cost =  1271.498624316\n",
      "Epoch:  0036 cost =  1093.721365803\n",
      "Epoch:  0041 cost =  1077.789534624\n",
      "Epoch:  0046 cost =  937.429574361\n",
      "Epoch:  0051 cost =  944.062188601\n",
      "Epoch:  0056 cost =  987.176636603\n",
      "Epoch:  0061 cost =  992.170127654\n",
      "Epoch:  0066 cost =  785.621324023\n",
      "Epoch:  0071 cost =  860.959961346\n",
      "Epoch:  0076 cost =  863.558366717\n"
     ]
    }
   ],
   "source": [
    "for epoch in range(training_epochs):\n",
    "    avg_cost = 0\n",
    "    total_batch = n_samples // batch_size\n",
    "    for i in range(total_batch):\n",
    "        batch_xs = get_random_block_from_data(X_train, batch_size)\n",
    "        cost = autoencoder.partial_fit(batch_xs)\n",
    "        avg_cost += cost / n_samples * batch_size\n",
    "        \n",
    "    if epoch % display_step == 0:\n",
    "        # 两种打印的方式都写一下 (#^.^#)\n",
    "        print(\"Epoch: \", '%04d' % (epoch + 1), \"cost = \", \"{:.9f}\".format(avg_cost))"
   ]
  },
  {
   "cell_type": "code",
   "execution_count": 113,
   "metadata": {
    "scrolled": true
   },
   "outputs": [
    {
     "name": "stdout",
     "output_type": "stream",
     "text": [
      "Total cost: 307322.44\n"
     ]
    }
   ],
   "source": [
    "print(\"Total cost: \" + str(autoencoder.calc_total_cost(X_test)))"
   ]
  },
  {
   "cell_type": "markdown",
   "metadata": {},
   "source": [
    "### <font color ='red'> 这里我遇到一个问题，autoencoder.transform(X_test)会出现报错的情况，但是调用其他类内方法却没有问题。。困扰了我很久，如果有人知道怎么解决，可以在评论区告诉我，万分感谢！</font> ###"
   ]
  },
  {
   "cell_type": "markdown",
   "metadata": {},
   "source": [
    "# 显示重建效果 #\n",
    "- ### 可以看出在训练80轮后，归一化图像重建结果与原图归一化结果很相近，说明我们的自编码器效果还是不错的 ###"
   ]
  },
  {
   "cell_type": "code",
   "execution_count": 124,
   "metadata": {},
   "outputs": [
    {
     "name": "stderr",
     "output_type": "stream",
     "text": [
      "C:\\Users\\MSI\\Anaconda3\\lib\\site-packages\\matplotlib\\axes\\_axes.py:545: UserWarning: No labelled objects found. Use label='...' kwarg on individual plots.\n",
      "  warnings.warn(\"No labelled objects found. \"\n"
     ]
    },
    {
     "data": {
      "image/png": "[encoded data removed]",
      "text/plain": [
       "<matplotlib.figure.Figure at 0x1448de431d0>"
      ]
     },
     "metadata": {},
     "output_type": "display_data"
    }
   ],
   "source": [
    "plt.figure(figsize=(20,5))\n",
    "for i in range(10):\n",
    "    ori_arr = X_test[i]\n",
    "    re_arr = autoencoder.reconstruct(X_test)[i]\n",
    "    ori_img = Image.fromarray(np.uint8(ori_arr.reshape(28,28)))\n",
    "    re_img = Image.fromarray(np.uint8(re_arr.reshape(28,28)))\n",
    "    \n",
    "    plt.subplot(2, 10, i+1)\n",
    "    plt.imshow(ori_img)\n",
    "    plt.title('ori_X[%d]' % i) # 图像题目\n",
    "    plt.subplot(2, 10, i+11)\n",
    "    plt.title('re_X[%d]' % i) # 图像题目\n",
    "    plt.imshow(re_img)\n",
    "plt.legend()\n",
    "plt.savefig('fig')\n",
    "plt.show()\n"
   ]
  },
  {
   "cell_type": "code",
   "execution_count": null,
   "metadata": {},
   "outputs": [],
   "source": []
  }
 ],
 "metadata": {
  "kernelspec": {
   "display_name": "Python 3",
   "language": "python",
   "name": "python3"
  },
  "language_info": {
   "codemirror_mode": {
    "name": "ipython",
    "version": 3
   },
   "file_extension": ".py",
   "mimetype": "text/x-python",
   "name": "python",
   "nbconvert_exporter": "python",
   "pygments_lexer": "ipython3",
   "version": "3.6.7"
  }
 },
 "nbformat": 4,
 "nbformat_minor": 2
}
